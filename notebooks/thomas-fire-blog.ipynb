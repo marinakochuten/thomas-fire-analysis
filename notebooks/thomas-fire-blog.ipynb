{
 "cells": [
  {
   "cell_type": "raw",
   "id": "b9b19368-bbff-4285-a701-700f8bb846bf",
   "metadata": {},
   "source": [
    "---\n",
    "title: 'Visualizing the 2017 Thomas Fire: A Python Analysis'\n",
    "description: \"Using AQI data and false color imagery to visualize the effects of the Thomas Fire on Santa Barbara county\"\n",
    "author:\n",
    "  - name: Marina Kochuten\n",
    "    url: https://marinakochuten.github.io/\n",
    "    affiliation: MEDS\n",
    "    affiliation-url: https://bren.ucsb.edu/masters-programs/master-environmental-data-science\n",
    "date: last-modified\n",
    "image: thomas-fire.jpg\n",
    "categories: [Jupyter, MEDS, Python]\n",
    "format:\n",
    "  html:\n",
    "    theme: styles.scss\n",
    "    mainfont: Montserrat\n",
    "    toc: true\n",
    "    page-layout: article\n",
    "---"
   ]
  },
  {
   "cell_type": "markdown",
   "id": "9c19de08-d940-43ce-a6d3-c549c986f6be",
   "metadata": {
    "tags": []
   },
   "source": [
    "## About\n",
    "\n",
    "The Thomas Fire, which burned over 280,000 acres in Ventura and Santa Barbara counties in December 2017, was one of California’s largest wildfires at the time. It caused widespread ecological damage, displaced communities, and left lasting environmental impacts.\n",
    "\n",
    "Using NASA's Landsat data and California Fire Perimeter data, I create a map that visualizes the extent of the Thomas Fire. In conjunction, I use Air Quality Index (AQI) data from the Environmental Protection Agency (EPA) to visualize the AQI surrounding the fire. Together, these visualizations showcase the impact that the Thomas Fire had on the community. "
   ]
  },
  {
   "cell_type": "markdown",
   "id": "274822f6-5e35-4f61-ad21-bc3d890f714b",
   "metadata": {},
   "source": [
    "|                                     |                                      |\n",
    "|-------------------------------------|--------------------------------------|\n",
    "| <img src=\"fire-scar.png\" width=\"350\"> | <img src=\"aqi.png\" width=\"450\">      |\n",
    "\n"
   ]
  },
  {
   "cell_type": "markdown",
   "id": "84882ab9-c9da-4d50-aaef-ca52321a949d",
   "metadata": {},
   "source": [
    "#### **For the full analysis, see my [GitHub repository](https://github.com/marinakochuten/thomas-fire-analysis).**\n",
    "\n",
    "### Highlights\n",
    "\n",
    "- Raster manipulation using `rioxarray`\n",
    "- Vector data manipulation using `GeoPandas`\n",
    "- False color imagery to highlight wildfire impact\n",
    "- Data visualization with `matplotlib`\n",
    "\n",
    "### Data\n",
    "\n",
    "**Landsat:** I use a simplified collection of bands (red, green, blue, near-infrared and shortwave infrared) from the Landsat Collection 2 Level-2 atmosperically corrected surface reflectance data, collected by the Landsat 8 satellite. The data was retrieved from the Microsoft Planetary Computer data catalogue and pre-processed to remove data outside land and coarsen the spatial resolution. This data is intended for visualization and educational purposes only.\n",
    "- *Citation:* Microsoft Planetary Computer data catalogue (2024), *Landsat Collection 2 Level-2 (simplified)* [Data set] Available from: https://planetarycomputer.microsoft.com/dataset/landsat-c2-l2. Access date: November 18, 2024.\n",
    "\n",
    "**Fire perimeters:** I use California Fire Perimeter data from the State of California's Data Catalog to subset to the Thomas Fire boundary. In this analysis, I will be using the file that I created from the full dataset. The dataset is updated annually and includes fire perimeters dating back to 1878.\n",
    "- *Citation:* State of California Data Catalog (2024), California Fire Perimeters (all) [Data set] Available from: https://catalog.data.gov/dataset/california-fire-perimeters-all-b3436. Access date: November 18, 2024.\n",
    "\n",
    "**Air Quality Index (AQI):** The EPA's AirData tool has pre-generated files of data available for download. The files are updated twice per year: once in June to capture the complete data for the prior year and once in December to capture the data for the summer. AQI is calculated each day for each monitor for the Criteria Gases and PM10 and PM2.5. For this analysis, I use two files, one containing daily AQI data for 2017 and one for 2018.\n",
    "- *Citation:* Environmental Protection Agency AirData (2024), Daily AQI by County [Data Set] Available from: https://www.epa.gov/outdoor-air-quality-data/download-daily-data. Access date: October 20, 2024."
   ]
  },
  {
   "cell_type": "markdown",
   "id": "378f2889-6eb0-4edb-a978-d226e1fec503",
   "metadata": {},
   "source": [
    "## Mapping the fire\n",
    "\n",
    "#### Setup\n",
    "\n",
    "To start, I set up my analysis by loading all necessary libraries and data files."
   ]
  },
  {
   "cell_type": "code",
   "execution_count": 1,
   "id": "92678908-10a6-43a7-93d3-6673ffb7c088",
   "metadata": {
    "tags": []
   },
   "outputs": [
    {
     "ename": "RasterioIOError",
     "evalue": "data/landsat8-2018-01-26-sb-simplified.nc: No such file or directory",
     "output_type": "error",
     "traceback": [
      "\u001b[0;31m---------------------------------------------------------------------------\u001b[0m",
      "\u001b[0;31mKeyError\u001b[0m                                  Traceback (most recent call last)",
      "File \u001b[0;32m/opt/anaconda3/envs/eds220-env/lib/python3.11/site-packages/xarray/backends/file_manager.py:211\u001b[0m, in \u001b[0;36mCachingFileManager._acquire_with_cache_info\u001b[0;34m(self, needs_lock)\u001b[0m\n\u001b[1;32m    210\u001b[0m \u001b[38;5;28;01mtry\u001b[39;00m:\n\u001b[0;32m--> 211\u001b[0m     file \u001b[38;5;241m=\u001b[39m \u001b[38;5;28;43mself\u001b[39;49m\u001b[38;5;241;43m.\u001b[39;49m\u001b[43m_cache\u001b[49m\u001b[43m[\u001b[49m\u001b[38;5;28;43mself\u001b[39;49m\u001b[38;5;241;43m.\u001b[39;49m\u001b[43m_key\u001b[49m\u001b[43m]\u001b[49m\n\u001b[1;32m    212\u001b[0m \u001b[38;5;28;01mexcept\u001b[39;00m \u001b[38;5;167;01mKeyError\u001b[39;00m:\n",
      "File \u001b[0;32m/opt/anaconda3/envs/eds220-env/lib/python3.11/site-packages/xarray/backends/lru_cache.py:56\u001b[0m, in \u001b[0;36mLRUCache.__getitem__\u001b[0;34m(self, key)\u001b[0m\n\u001b[1;32m     55\u001b[0m \u001b[38;5;28;01mwith\u001b[39;00m \u001b[38;5;28mself\u001b[39m\u001b[38;5;241m.\u001b[39m_lock:\n\u001b[0;32m---> 56\u001b[0m     value \u001b[38;5;241m=\u001b[39m \u001b[38;5;28;43mself\u001b[39;49m\u001b[38;5;241;43m.\u001b[39;49m\u001b[43m_cache\u001b[49m\u001b[43m[\u001b[49m\u001b[43mkey\u001b[49m\u001b[43m]\u001b[49m\n\u001b[1;32m     57\u001b[0m     \u001b[38;5;28mself\u001b[39m\u001b[38;5;241m.\u001b[39m_cache\u001b[38;5;241m.\u001b[39mmove_to_end(key)\n",
      "\u001b[0;31mKeyError\u001b[0m: [<function open at 0x7ff2ebf15940>, ('data/landsat8-2018-01-26-sb-simplified.nc',), 'r', (('sharing', False),), '1ef91aac-3306-4186-a819-eb158e1f2d03']",
      "\nDuring handling of the above exception, another exception occurred:\n",
      "\u001b[0;31mCPLE_OpenFailedError\u001b[0m                      Traceback (most recent call last)",
      "File \u001b[0;32mrasterio/_base.pyx:310\u001b[0m, in \u001b[0;36mrasterio._base.DatasetBase.__init__\u001b[0;34m()\u001b[0m\n",
      "File \u001b[0;32mrasterio/_base.pyx:221\u001b[0m, in \u001b[0;36mrasterio._base.open_dataset\u001b[0;34m()\u001b[0m\n",
      "File \u001b[0;32mrasterio/_err.pyx:359\u001b[0m, in \u001b[0;36mrasterio._err.exc_wrap_pointer\u001b[0;34m()\u001b[0m\n",
      "\u001b[0;31mCPLE_OpenFailedError\u001b[0m: data/landsat8-2018-01-26-sb-simplified.nc: No such file or directory",
      "\nDuring handling of the above exception, another exception occurred:\n",
      "\u001b[0;31mRasterioIOError\u001b[0m                           Traceback (most recent call last)",
      "Cell \u001b[0;32mIn[1], line 15\u001b[0m\n\u001b[1;32m     12\u001b[0m \u001b[38;5;28;01mfrom\u001b[39;00m \u001b[38;5;21;01mmatplotlib_scalebar\u001b[39;00m\u001b[38;5;21;01m.\u001b[39;00m\u001b[38;5;21;01mscalebar\u001b[39;00m \u001b[38;5;28;01mimport\u001b[39;00m ScaleBar    \u001b[38;5;66;03m# For adding scalebar \u001b[39;00m\n\u001b[1;32m     14\u001b[0m \u001b[38;5;66;03m# Import Landsat data\u001b[39;00m\n\u001b[0;32m---> 15\u001b[0m landsat \u001b[38;5;241m=\u001b[39m \u001b[43mrioxr\u001b[49m\u001b[38;5;241;43m.\u001b[39;49m\u001b[43mopen_rasterio\u001b[49m\u001b[43m(\u001b[49m\u001b[38;5;124;43m'\u001b[39;49m\u001b[38;5;124;43mdata/landsat8-2018-01-26-sb-simplified.nc\u001b[39;49m\u001b[38;5;124;43m'\u001b[39;49m\u001b[43m)\u001b[49m\n\u001b[1;32m     17\u001b[0m \u001b[38;5;66;03m# Import California fire perimeters\u001b[39;00m\n\u001b[1;32m     18\u001b[0m thomas_fire \u001b[38;5;241m=\u001b[39m gpd\u001b[38;5;241m.\u001b[39mread_file(\u001b[38;5;124m'\u001b[39m\u001b[38;5;124mdata/thomas_fire_boundary.geojson\u001b[39m\u001b[38;5;124m'\u001b[39m)\n",
      "File \u001b[0;32m/opt/anaconda3/envs/eds220-env/lib/python3.11/site-packages/rioxarray/_io.py:1124\u001b[0m, in \u001b[0;36mopen_rasterio\u001b[0;34m(filename, parse_coordinates, chunks, cache, lock, masked, mask_and_scale, variable, group, default_name, decode_times, decode_timedelta, band_as_variable, **open_kwargs)\u001b[0m\n\u001b[1;32m   1122\u001b[0m     \u001b[38;5;28;01melse\u001b[39;00m:\n\u001b[1;32m   1123\u001b[0m         manager \u001b[38;5;241m=\u001b[39m URIManager(file_opener, filename, mode\u001b[38;5;241m=\u001b[39m\u001b[38;5;124m\"\u001b[39m\u001b[38;5;124mr\u001b[39m\u001b[38;5;124m\"\u001b[39m, kwargs\u001b[38;5;241m=\u001b[39mopen_kwargs)\n\u001b[0;32m-> 1124\u001b[0m     riods \u001b[38;5;241m=\u001b[39m \u001b[43mmanager\u001b[49m\u001b[38;5;241;43m.\u001b[39;49m\u001b[43macquire\u001b[49m\u001b[43m(\u001b[49m\u001b[43m)\u001b[49m\n\u001b[1;32m   1125\u001b[0m     captured_warnings \u001b[38;5;241m=\u001b[39m rio_warnings\u001b[38;5;241m.\u001b[39mcopy()\n\u001b[1;32m   1127\u001b[0m \u001b[38;5;66;03m# raise the NotGeoreferencedWarning if applicable\u001b[39;00m\n",
      "File \u001b[0;32m/opt/anaconda3/envs/eds220-env/lib/python3.11/site-packages/xarray/backends/file_manager.py:193\u001b[0m, in \u001b[0;36mCachingFileManager.acquire\u001b[0;34m(self, needs_lock)\u001b[0m\n\u001b[1;32m    178\u001b[0m \u001b[38;5;28;01mdef\u001b[39;00m \u001b[38;5;21macquire\u001b[39m(\u001b[38;5;28mself\u001b[39m, needs_lock\u001b[38;5;241m=\u001b[39m\u001b[38;5;28;01mTrue\u001b[39;00m):\n\u001b[1;32m    179\u001b[0m \u001b[38;5;250m    \u001b[39m\u001b[38;5;124;03m\"\"\"Acquire a file object from the manager.\u001b[39;00m\n\u001b[1;32m    180\u001b[0m \n\u001b[1;32m    181\u001b[0m \u001b[38;5;124;03m    A new file is only opened if it has expired from the\u001b[39;00m\n\u001b[0;32m   (...)\u001b[0m\n\u001b[1;32m    191\u001b[0m \u001b[38;5;124;03m        An open file object, as returned by ``opener(*args, **kwargs)``.\u001b[39;00m\n\u001b[1;32m    192\u001b[0m \u001b[38;5;124;03m    \"\"\"\u001b[39;00m\n\u001b[0;32m--> 193\u001b[0m     file, _ \u001b[38;5;241m=\u001b[39m \u001b[38;5;28;43mself\u001b[39;49m\u001b[38;5;241;43m.\u001b[39;49m\u001b[43m_acquire_with_cache_info\u001b[49m\u001b[43m(\u001b[49m\u001b[43mneeds_lock\u001b[49m\u001b[43m)\u001b[49m\n\u001b[1;32m    194\u001b[0m     \u001b[38;5;28;01mreturn\u001b[39;00m file\n",
      "File \u001b[0;32m/opt/anaconda3/envs/eds220-env/lib/python3.11/site-packages/xarray/backends/file_manager.py:217\u001b[0m, in \u001b[0;36mCachingFileManager._acquire_with_cache_info\u001b[0;34m(self, needs_lock)\u001b[0m\n\u001b[1;32m    215\u001b[0m     kwargs \u001b[38;5;241m=\u001b[39m kwargs\u001b[38;5;241m.\u001b[39mcopy()\n\u001b[1;32m    216\u001b[0m     kwargs[\u001b[38;5;124m\"\u001b[39m\u001b[38;5;124mmode\u001b[39m\u001b[38;5;124m\"\u001b[39m] \u001b[38;5;241m=\u001b[39m \u001b[38;5;28mself\u001b[39m\u001b[38;5;241m.\u001b[39m_mode\n\u001b[0;32m--> 217\u001b[0m file \u001b[38;5;241m=\u001b[39m \u001b[38;5;28;43mself\u001b[39;49m\u001b[38;5;241;43m.\u001b[39;49m\u001b[43m_opener\u001b[49m\u001b[43m(\u001b[49m\u001b[38;5;241;43m*\u001b[39;49m\u001b[38;5;28;43mself\u001b[39;49m\u001b[38;5;241;43m.\u001b[39;49m\u001b[43m_args\u001b[49m\u001b[43m,\u001b[49m\u001b[43m \u001b[49m\u001b[38;5;241;43m*\u001b[39;49m\u001b[38;5;241;43m*\u001b[39;49m\u001b[43mkwargs\u001b[49m\u001b[43m)\u001b[49m\n\u001b[1;32m    218\u001b[0m \u001b[38;5;28;01mif\u001b[39;00m \u001b[38;5;28mself\u001b[39m\u001b[38;5;241m.\u001b[39m_mode \u001b[38;5;241m==\u001b[39m \u001b[38;5;124m\"\u001b[39m\u001b[38;5;124mw\u001b[39m\u001b[38;5;124m\"\u001b[39m:\n\u001b[1;32m    219\u001b[0m     \u001b[38;5;66;03m# ensure file doesn't get overridden when opened again\u001b[39;00m\n\u001b[1;32m    220\u001b[0m     \u001b[38;5;28mself\u001b[39m\u001b[38;5;241m.\u001b[39m_mode \u001b[38;5;241m=\u001b[39m \u001b[38;5;124m\"\u001b[39m\u001b[38;5;124ma\u001b[39m\u001b[38;5;124m\"\u001b[39m\n",
      "File \u001b[0;32m/opt/anaconda3/envs/eds220-env/lib/python3.11/site-packages/rasterio/env.py:463\u001b[0m, in \u001b[0;36mensure_env_with_credentials.<locals>.wrapper\u001b[0;34m(*args, **kwds)\u001b[0m\n\u001b[1;32m    460\u001b[0m     session \u001b[38;5;241m=\u001b[39m DummySession()\n\u001b[1;32m    462\u001b[0m \u001b[38;5;28;01mwith\u001b[39;00m env_ctor(session\u001b[38;5;241m=\u001b[39msession):\n\u001b[0;32m--> 463\u001b[0m     \u001b[38;5;28;01mreturn\u001b[39;00m \u001b[43mf\u001b[49m\u001b[43m(\u001b[49m\u001b[38;5;241;43m*\u001b[39;49m\u001b[43margs\u001b[49m\u001b[43m,\u001b[49m\u001b[43m \u001b[49m\u001b[38;5;241;43m*\u001b[39;49m\u001b[38;5;241;43m*\u001b[39;49m\u001b[43mkwds\u001b[49m\u001b[43m)\u001b[49m\n",
      "File \u001b[0;32m/opt/anaconda3/envs/eds220-env/lib/python3.11/site-packages/rasterio/__init__.py:355\u001b[0m, in \u001b[0;36mopen\u001b[0;34m(fp, mode, driver, width, height, count, crs, transform, dtype, nodata, sharing, opener, **kwargs)\u001b[0m\n\u001b[1;32m    352\u001b[0m     path \u001b[38;5;241m=\u001b[39m _parse_path(raw_dataset_path)\n\u001b[1;32m    354\u001b[0m \u001b[38;5;28;01mif\u001b[39;00m mode \u001b[38;5;241m==\u001b[39m \u001b[38;5;124m\"\u001b[39m\u001b[38;5;124mr\u001b[39m\u001b[38;5;124m\"\u001b[39m:\n\u001b[0;32m--> 355\u001b[0m     dataset \u001b[38;5;241m=\u001b[39m \u001b[43mDatasetReader\u001b[49m\u001b[43m(\u001b[49m\u001b[43mpath\u001b[49m\u001b[43m,\u001b[49m\u001b[43m \u001b[49m\u001b[43mdriver\u001b[49m\u001b[38;5;241;43m=\u001b[39;49m\u001b[43mdriver\u001b[49m\u001b[43m,\u001b[49m\u001b[43m \u001b[49m\u001b[43msharing\u001b[49m\u001b[38;5;241;43m=\u001b[39;49m\u001b[43msharing\u001b[49m\u001b[43m,\u001b[49m\u001b[43m \u001b[49m\u001b[38;5;241;43m*\u001b[39;49m\u001b[38;5;241;43m*\u001b[39;49m\u001b[43mkwargs\u001b[49m\u001b[43m)\u001b[49m\n\u001b[1;32m    356\u001b[0m \u001b[38;5;28;01melif\u001b[39;00m mode \u001b[38;5;241m==\u001b[39m \u001b[38;5;124m\"\u001b[39m\u001b[38;5;124mr+\u001b[39m\u001b[38;5;124m\"\u001b[39m:\n\u001b[1;32m    357\u001b[0m     dataset \u001b[38;5;241m=\u001b[39m get_writer_for_path(path, driver\u001b[38;5;241m=\u001b[39mdriver)(\n\u001b[1;32m    358\u001b[0m         path, mode, driver\u001b[38;5;241m=\u001b[39mdriver, sharing\u001b[38;5;241m=\u001b[39msharing, \u001b[38;5;241m*\u001b[39m\u001b[38;5;241m*\u001b[39mkwargs\n\u001b[1;32m    359\u001b[0m     )\n",
      "File \u001b[0;32mrasterio/_base.pyx:312\u001b[0m, in \u001b[0;36mrasterio._base.DatasetBase.__init__\u001b[0;34m()\u001b[0m\n",
      "\u001b[0;31mRasterioIOError\u001b[0m: data/landsat8-2018-01-26-sb-simplified.nc: No such file or directory"
     ]
    }
   ],
   "source": [
    "# Libraries for general analysis\n",
    "import numpy as np\n",
    "import pandas as pd\n",
    "\n",
    "# Libraries for geospatial data\n",
    "import geopandas as gpd\n",
    "import rioxarray as rioxr\n",
    "\n",
    "# Libraries for plotting\n",
    "import matplotlib.pyplot as plt\n",
    "import matplotlib.patches as mpatches                # For creating custom legend\n",
    "from matplotlib_scalebar.scalebar import ScaleBar    # For adding scalebar \n",
    "\n",
    "# Import Landsat data\n",
    "landsat = rioxr.open_rasterio('data/landsat8-2018-01-26-sb-simplified.nc')\n",
    "\n",
    "# Import California fire perimeters\n",
    "thomas_fire = gpd.read_file('data/thomas_fire_boundary.geojson')"
   ]
  },
  {
   "cell_type": "markdown",
   "id": "6fb7913c-5021-4b73-96ee-957c05668c34",
   "metadata": {},
   "source": [
    "#### Prepare Data\n",
    "\n",
    "Now, I need to prepare the Landsat data. For processing the Landsat data, I will be primarily working with the `rioxarray` package. `rioxarray` is an extension of `xarray` that focuses on geospatial raster data. By loading the Landsat data in using `rioxarray`, I load the file as an `xarray.Dataset`, an object that includes both the raster data and the associated geospatial metadata, including CRS, affine transformations, and spatial coordinates."
   ]
  },
  {
   "cell_type": "code",
   "execution_count": null,
   "id": "b3a881f3-a2bc-4484-802c-fe2e2b7c6e5f",
   "metadata": {
    "tags": []
   },
   "outputs": [],
   "source": [
    "# Look at the Landsat raster\n",
    "landsat"
   ]
  },
  {
   "cell_type": "markdown",
   "id": "4aa7eb79-5835-48c3-9f49-8e7ac5b88865",
   "metadata": {},
   "source": [
    "Taking a look at the Landsat raster, I notice that we have a dimension named band that contains only one layer. \n",
    "\n",
    "Using `squeeze()` and `drop_vars()`, I drop this unnecessary band dimension and it's associated coordinates, resulting in a simpler, 2-dimensional raster. This will make plotting easier down the line."
   ]
  },
  {
   "cell_type": "code",
   "execution_count": null,
   "id": "a57c2ca6-89d7-49c0-8212-ef12f1e947c0",
   "metadata": {
    "tags": []
   },
   "outputs": [],
   "source": [
    "# Drop redundant band dimension\n",
    "landsat = landsat.squeeze().drop_vars('band')"
   ]
  },
  {
   "cell_type": "markdown",
   "id": "1a88347b-923a-4550-a086-304f488b3579",
   "metadata": {},
   "source": [
    "Now, the Landsat raster is ready to be plotted. \n",
    "\n",
    "To accentuate the Thomas fire scar, I overlay the Landsat raster with a polygon representing the perimeter of the Thomas Fire. In my full analysis, I prepared the California fire perimeter data by creating a new geospatial object containing only the Thomas Fire perimeter and saved it as `thomas_fire_boundary.geojson`. When manipulating the fire perimeter data, I used `GeoPandas`. Building off of the `pandas.DataFrame`, the core data structure in `GeoPandas` is the `geopandas.GeoDataFrame`, which can store geometry columns and perform spatial operations!\n",
    "\n",
    "I knew that the California fire perimeter data contains the columns YEAR\\_ and FIRE_NAME, which were useful for subsetting to the 2017 Thomas Fire. Since `geopandas.GeoDataFrames` are `pandas.DataFrames` at their core, I used basic dataframe subsetting to pull out the area of interest.\n",
    "\n",
    "For the purposes of this post, I have only included my subset file. For the full analysis, see [my GitHub repository](https://github.com/marinakochuten/thomas-fire-analysis)."
   ]
  },
  {
   "cell_type": "markdown",
   "id": "d955369b-db23-4e87-8f86-3d3f5b78b119",
   "metadata": {},
   "source": [
    "#### Plot the Landsat raster using false color and the Thomas Fire perimeter to highlight the extent of the burn\n",
    "\n",
    "Remote sensing instruments collect data from wavelengths both within and outside of the visible spectrum. **False color imagery** uses these non-visible wavelengths to reveal unique aspects that may not be visible otherwise. False color imagery has a wide range of applications, including acting as a useful tool for monitoring wildfire impacts. By assigning infrared bands to visible colors, these images highlight vegetation health, burn severity, and the extent of fire scars.\n",
    "\n",
    "In this case, I use false color imagery to highlight the 2017 Thomas Fire's burn scar. I use Landsat's shortwave infrared as red, near infrared as green, and green bands as blue to visualize the burn. Newly burned land reflects strongly in SWIR bands, making the burn scar appear red in my map. The bright green shows vegetation, as it reflects near infrared light very strongly.\n",
    "\n",
    "To do so, I select the shortwave infrared, near infrared, and red variables, convert to array, and plot. By setting the parameter `robust = True` in the `imshow()` method, I adjust the display of the image to handle color scaling appropriately by ignoring the outlier RBG values caused by clouds. It fixes contrast issues that cause images to appear bright white."
   ]
  },
  {
   "cell_type": "code",
   "execution_count": null,
   "id": "be14cb0c-1c59-4017-a5c1-7dc0d0e7620d",
   "metadata": {
    "tags": []
   },
   "outputs": [],
   "source": [
    "#| code-fold: true\n",
    "#| code-summary: \"Show code for the false color image\"\n",
    "\n",
    "# Before two spatial object can interact, I must match the CRSs\n",
    "thomas_fire = thomas_fire.to_crs(landsat.rio.crs)\n",
    "assert thomas_fire.crs == landsat.rio.crs\n",
    "\n",
    "# Create an object containing the aspect ratio for the landsat map\n",
    "ratio = landsat.rio.width / landsat.rio.height\n",
    "\n",
    "# Initialize plot\n",
    "fig, ax = plt.subplots(figsize = (9, 9 * ratio))  # Update figure size and aspect\n",
    "\n",
    "# Remove axis for cleaner map\n",
    "ax.axis('off')\n",
    "\n",
    "# Plot false color image highlighting the burn scar\n",
    "landsat[['swir22', 'nir08', 'red']].to_array().plot.imshow(robust = True, ax = ax, zorder = 1)\n",
    "\n",
    "# Add custom legend items for false color image bands\n",
    "legend_swir = mpatches.Patch(color = \"#FA957D\", label = 'Shortwave Infrared (SWIR) \\n - Burned Area')\n",
    "legend_nir = mpatches.Patch(color = \"#62DF59\", label = 'Near Infrared \\n - Vegetation')\n",
    "\n",
    "# Add legend\n",
    "ax.legend(handles = [legend_swir, legend_nir], loc = 'upper right', fontsize = 10)\n",
    "\n",
    "# Add Thomas Fire perimeter\n",
    "thomas_fire.plot(ax = ax, \n",
    "                 edgecolor = 'firebrick',\n",
    "                 color = 'none',\n",
    "                 linewidth = 2,\n",
    "                 zorder = 2,\n",
    "                 legend = True)\n",
    "\n",
    "# Add fire perimeter label\n",
    "ax.text(x = 291870, y = 3831700,         # Position coordinates\n",
    "        s = \"Thomas Fire \\n Perimeter\",  # Label text\n",
    "        fontsize = 10, \n",
    "        weight = 'bold',\n",
    "        color = 'firebrick',\n",
    "        bbox = dict(facecolor = 'white', edgecolor = 'firebrick', alpha = 0.8, pad = 4))   # Box behind text for visibility\n",
    "\n",
    "# Add plot title\n",
    "ax.set_title('2017 Thomas Fire (California) Burn Scar using False Color Imagery', fontsize = 16)\n",
    "\n",
    "# Add scale bar \n",
    "scalebar = ScaleBar(1, units='m', location='lower left', length_fraction=0.25, color='black')  \n",
    "ax.add_artist(scalebar)\n",
    "\n",
    "# Display the plot\n",
    "plt.show()"
   ]
  },
  {
   "cell_type": "markdown",
   "id": "d81314a4-b6ff-4ac7-bfdc-33a56e3ef608",
   "metadata": {},
   "source": [
    "This false color image uses the shortwave infrared and near infrared to easily visualize bare ground / burned areas (shown in red) and vegetation (shown in bright green).\n",
    "\n",
    "## Visualizing AQI\n",
    "\n",
    "Now that I have a map highlighting the extent of the fire, I will make a supplimentary visualization showcasing the AQI surrounding the event. The U.S. Air Quality Index (AQI) is EPA's tool for communicating about outdoor air quality and health. The AQI includes six categories, each corresponding to a range of index values. The higher the AQI value, the greater the level of air pollution and the greater the health concern. For example, an AQI value of 50 or below represents good air quality, while an AQI value over 300 represents hazardous air quality.\n",
    "\n",
    "For this, I create a line plot showing both the daily AQI and the 5-day average in Santa Barbara County in 2017 and 2018. \n",
    "\n",
    "#### Setup\n",
    "\n",
    "First, I need to download the AQI data. I am accessing the data straight from its its ZIP file link, so I use the `pd.read_csv` function with the `compression='zip'` parameter added."
   ]
  },
  {
   "cell_type": "code",
   "execution_count": null,
   "id": "51b88d53-3ba2-4d1b-b14e-4276b6b79895",
   "metadata": {
    "tags": []
   },
   "outputs": [],
   "source": [
    "# Load in county level AQI data from 2017 and 2018\n",
    "aqi = pd.concat([pd.read_csv('https://aqs.epa.gov/aqsweb/airdata/daily_aqi_by_county_2017.zip',\n",
    "                             compression = 'zip'),\n",
    "                 pd.read_csv('https://aqs.epa.gov/aqsweb/airdata/daily_aqi_by_county_2018.zip',\n",
    "                            compression = 'zip')])"
   ]
  },
  {
   "cell_type": "markdown",
   "id": "4c5979ec-e7c9-40f2-88b8-146424d4605a",
   "metadata": {},
   "source": [
    "#### Prepare data\n",
    "\n",
    "Next, I will tidy the data frame by converting the column names to lower snake case, subsetting to Santa Barbara county, and changing the data type of the date column to datetime."
   ]
  },
  {
   "cell_type": "code",
   "execution_count": null,
   "id": "91bf95e8-48f7-4b0a-adea-94ed4061f557",
   "metadata": {
    "tags": []
   },
   "outputs": [],
   "source": [
    "# Convert column names to lower snake case\n",
    "aqi.columns = (aqi.columns\n",
    "                  .str.lower()\n",
    "                  .str.replace(' ','_'))\n",
    "\n",
    "# Make new data frame containing only AQI data for Santa Barbara County\n",
    "aqi_sb = ((aqi[aqi['county_name'] == \"Santa Barbara\"])\n",
    "          .drop(columns = ['state_name', 'county_name', 'state_code', 'county_code'])\n",
    "         )\n",
    "\n",
    "# Convert date column to datetime object and set as the index\n",
    "aqi_sb.date = pd.to_datetime(aqi_sb.date)\n",
    "aqi_sb = aqi_sb.set_index('date')"
   ]
  },
  {
   "cell_type": "markdown",
   "id": "9033ba4b-6191-4366-9eb8-bff31701281f",
   "metadata": {},
   "source": [
    "#### Plot daily AQI against the 5-day average AQI from 2017-2018\n",
    "\n",
    "Rolling averages make it easy to identify short-term trends by smoothing out daily fluctuations. `pandas` makes calculating rolling averages very simple with the `pandas.DataFrame.rolling()` method. Since I already have a datetime column in my dataframe that includes day, I can pass the argument `window = '5D'` to `.rolling()` to specify a 5-day window, that I can then chain `mean()` to get the 5-day average!"
   ]
  },
  {
   "cell_type": "code",
   "execution_count": null,
   "id": "b4a97c40-1cc2-4edc-bd15-be2f663c85e8",
   "metadata": {},
   "outputs": [],
   "source": [
    "# Add new column containing a rolling 5-day AQI average\n",
    "aqi_sb['five_day_average'] = aqi_sb['aqi'].rolling(window = '5D').mean()"
   ]
  },
  {
   "cell_type": "markdown",
   "id": "b49b6437-fef9-4047-ad06-9dd8a892db1a",
   "metadata": {},
   "source": [
    "Now, I am ready to create the AQI plot. "
   ]
  },
  {
   "cell_type": "code",
   "execution_count": null,
   "id": "32afeea1-8743-46cb-ae96-e0f0526f564a",
   "metadata": {},
   "outputs": [],
   "source": [
    "#| code-fold: true\n",
    "#| code-summary: \"Show code for the AQI plot\"\n",
    "\n",
    "# Plot daily AQI against 5-day average ----\n",
    "\n",
    "# Initialize figure\n",
    "fig, ax = plt.subplots(figsize=(9,5))\n",
    "\n",
    "# Add daily and 5-day average AQI\n",
    "aqi_sb.five_day_average.plot(ax=ax, color = 'firebrick', zorder = 3)\n",
    "aqi_sb.aqi.plot(ax=ax, color = 'cornflowerblue', zorder = 2)\n",
    "\n",
    "# Add AQI labels for unhealthy levels\n",
    "ax.axhspan(150, 151.5, facecolor = \"dimgrey\", alpha = 0.8)\n",
    "ax.text(x = pd.to_datetime('2017-01-10'), y = 155, s = 'Unhealthy', color = 'dimgrey')\n",
    "ax.axhspan(200, 202, facecolor = \"dimgrey\", alpha = 0.8)\n",
    "ax.text(x = pd.to_datetime('2017-01-10'), y = 205, s = 'Very Unhealthy', color = 'dimgrey')\n",
    "ax.axhspan(300, 301, facecolor = \"dimgrey\", alpha = 0.8)\n",
    "ax.text(x = pd.to_datetime('2017-01-10'), y = 305, s = 'Hazardous', color = 'dimgrey')\n",
    "\n",
    "# Update axis labels and title\n",
    "plt.xlabel('Date')\n",
    "plt.ylabel('AQI')\n",
    "plt.title('AQI during the 2017 Thomas Fire in Santa Barbara County')\n",
    "\n",
    "# Add legend\n",
    "ax.legend(labels = ['5-day average AQI', 'Daily AQI'])\n",
    "\n",
    "# Add label indicating the Thomas Fire\n",
    "ax.axvline(x = pd.to_datetime('2017-12-01'), color = 'dimgrey', linestyle = 'dashed')\n",
    "ax.text(x = pd.to_datetime('2017-08-25'), y = 255, s = 'Thomas Fire', color = 'dimgrey')\n",
    "\n",
    "# Update grid lines\n",
    "ax.grid(axis = 'y', linewidth = 0.2)\n",
    "\n",
    "plt.show()"
   ]
  },
  {
   "cell_type": "markdown",
   "id": "1c3b0c35-bb87-45ef-b6b6-2a29ff99e41e",
   "metadata": {},
   "source": [
    "## Conclusion\n",
    "\n",
    "For this analysis, I bring my newly aquired skills working with tabular and spatial data in Python together to visualize the impact of the 2017 Thomas Fire on Santa Barbara county. Using false color imagery, I highlight the burn scar. Then, I use daily AQI data to create a plot that accompanies the burn scar map. "
   ]
  }
 ],
 "metadata": {
  "kernelspec": {
   "display_name": "Anaconda 3 (EDS220)",
   "language": "python",
   "name": "eds220-env"
  },
  "language_info": {
   "codemirror_mode": {
    "name": "ipython",
    "version": 3
   },
   "file_extension": ".py",
   "mimetype": "text/x-python",
   "name": "python",
   "nbconvert_exporter": "python",
   "pygments_lexer": "ipython3",
   "version": "3.11.4"
  }
 },
 "nbformat": 4,
 "nbformat_minor": 5
}
