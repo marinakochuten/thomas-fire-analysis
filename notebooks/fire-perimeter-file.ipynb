{
 "cells": [
  {
   "cell_type": "markdown",
   "id": "c4f589f7-5b00-4fda-ae95-a1dd8ffdbadd",
   "metadata": {},
   "source": [
    "# Thomas Fire perimeter data retrieval and selection\n",
    "\n",
    "Author: Marina Kochuten\n",
    "\n",
    "Repository: https://github.com/marinakochuten/eds220-hwk4\n",
    "\n",
    "## About\n",
    "\n",
    "The Thomas Fire, which burned over 280,000 acres in Ventura and Santa Barbara counties in December 2017, was one of California’s largest wildfires at the time. It caused widespread ecological damage, displaced communities, and left lasting environmental impacts.\n",
    "\n",
    "Using open-access data containing fire perimeters in California, I create a geospatial file containing the boundary of the 2017 Thomas Fire.\n",
    "\n",
    "### Highlights\n",
    "\n",
    "- Accessing open-access data online from a reputable source\n",
    "- Exploring and filtering geospatial data with `geopandas`\n",
    "- Creating geospatial files from `geopandas.GeoDataFrame` using `to_file()` method\n",
    "\n",
    "### Data\n",
    "\n",
    "**About the data:** I use California Fire Perimeter data from the State of California's Data Catalog. The dataset is updated annually and includes fire perimeters dating back to 1878.\n",
    "\n",
    "**Citation:** State of California Data Catalog (2024), *California Fire Perimeters (all)* [Data set] Available from: https://catalog.data.gov/dataset/california-fire-perimeters-all-b3436. Access date: November 18, 2024."
   ]
  },
  {
   "cell_type": "markdown",
   "id": "504d7ce5-5753-4e39-a050-135eadfe7070",
   "metadata": {},
   "source": [
    "## Import libraries"
   ]
  },
  {
   "cell_type": "code",
   "execution_count": 1,
   "id": "59c3082d-665a-4447-a921-73de3a8de284",
   "metadata": {
    "tags": []
   },
   "outputs": [],
   "source": [
    "# Import libraries\n",
    "import pandas as pd\n",
    "import geopandas as gpd\n",
    "import os"
   ]
  },
  {
   "cell_type": "code",
   "execution_count": 2,
   "id": "8f4bd6ff-51b8-4d55-a520-1e9b628d6067",
   "metadata": {
    "tags": []
   },
   "outputs": [],
   "source": [
    "# Set pandas to display all columns\n",
    "pd.set_option('display.max_columns', None)"
   ]
  },
  {
   "cell_type": "markdown",
   "id": "47adddd9-9313-4269-8cba-b3181e1d11a0",
   "metadata": {},
   "source": [
    "## Data exploration"
   ]
  },
  {
   "cell_type": "code",
   "execution_count": 3,
   "id": "4a4aba8d-e84a-4e4f-a94d-50fc7cbf5371",
   "metadata": {
    "tags": []
   },
   "outputs": [],
   "source": [
    "\"\"\"\n",
    "Set environment variable 'PROJ_LIB' to specify the path for the PROJ library\n",
    "Resolves ERROR 1: PROJ: proj_create_from_database\n",
    "\"\"\"\"\"\n",
    "os.environ['PROJ_LIB'] = '/opt/anaconda3/share/proj'\n",
    "\n",
    "# Import california fire perimeter data\n",
    "ca_fires = gpd.read_file('data/california_fire_perimeters/california_fire_perimeters.shp')"
   ]
  },
  {
   "cell_type": "code",
   "execution_count": 4,
   "id": "9ab89dbc-0ac7-450f-873c-c2ce8c117a9b",
   "metadata": {
    "tags": []
   },
   "outputs": [
    {
     "data": {
      "text/html": [
       "<div>\n",
       "<style scoped>\n",
       "    .dataframe tbody tr th:only-of-type {\n",
       "        vertical-align: middle;\n",
       "    }\n",
       "\n",
       "    .dataframe tbody tr th {\n",
       "        vertical-align: top;\n",
       "    }\n",
       "\n",
       "    .dataframe thead th {\n",
       "        text-align: right;\n",
       "    }\n",
       "</style>\n",
       "<table border=\"1\" class=\"dataframe\">\n",
       "  <thead>\n",
       "    <tr style=\"text-align: right;\">\n",
       "      <th></th>\n",
       "      <th>YEAR_</th>\n",
       "      <th>STATE</th>\n",
       "      <th>AGENCY</th>\n",
       "      <th>UNIT_ID</th>\n",
       "      <th>FIRE_NAME</th>\n",
       "      <th>INC_NUM</th>\n",
       "      <th>ALARM_DATE</th>\n",
       "      <th>CONT_DATE</th>\n",
       "      <th>CAUSE</th>\n",
       "      <th>C_METHOD</th>\n",
       "      <th>OBJECTIVE</th>\n",
       "      <th>GIS_ACRES</th>\n",
       "      <th>COMMENTS</th>\n",
       "      <th>COMPLEX_NA</th>\n",
       "      <th>IRWINID</th>\n",
       "      <th>FIRE_NUM</th>\n",
       "      <th>COMPLEX_ID</th>\n",
       "      <th>DECADES</th>\n",
       "      <th>geometry</th>\n",
       "    </tr>\n",
       "  </thead>\n",
       "  <tbody>\n",
       "    <tr>\n",
       "      <th>0</th>\n",
       "      <td>2023</td>\n",
       "      <td>CA</td>\n",
       "      <td>CDF</td>\n",
       "      <td>SKU</td>\n",
       "      <td>WHITWORTH</td>\n",
       "      <td>00004808</td>\n",
       "      <td>2023-06-17</td>\n",
       "      <td>2023-06-17</td>\n",
       "      <td>5</td>\n",
       "      <td>1</td>\n",
       "      <td>1</td>\n",
       "      <td>5.72913</td>\n",
       "      <td>None</td>\n",
       "      <td>None</td>\n",
       "      <td>{7985848C-0AC2-4BA4-8F0E-29F778652E61}</td>\n",
       "      <td>None</td>\n",
       "      <td>None</td>\n",
       "      <td>2020</td>\n",
       "      <td>POLYGON ((-13682443.000 5091132.739, -13682445...</td>\n",
       "    </tr>\n",
       "    <tr>\n",
       "      <th>1</th>\n",
       "      <td>2023</td>\n",
       "      <td>CA</td>\n",
       "      <td>LRA</td>\n",
       "      <td>BTU</td>\n",
       "      <td>KAISER</td>\n",
       "      <td>00010225</td>\n",
       "      <td>2023-06-02</td>\n",
       "      <td>2023-06-02</td>\n",
       "      <td>5</td>\n",
       "      <td>1</td>\n",
       "      <td>1</td>\n",
       "      <td>13.60240</td>\n",
       "      <td>None</td>\n",
       "      <td>None</td>\n",
       "      <td>{43EBCC88-B3AC-48EB-8EF5-417FE0939CCF}</td>\n",
       "      <td>None</td>\n",
       "      <td>None</td>\n",
       "      <td>2020</td>\n",
       "      <td>POLYGON ((-13576727.142 4841226.161, -13576726...</td>\n",
       "    </tr>\n",
       "    <tr>\n",
       "      <th>2</th>\n",
       "      <td>2023</td>\n",
       "      <td>CA</td>\n",
       "      <td>CDF</td>\n",
       "      <td>AEU</td>\n",
       "      <td>JACKSON</td>\n",
       "      <td>00017640</td>\n",
       "      <td>2023-07-01</td>\n",
       "      <td>2023-07-02</td>\n",
       "      <td>2</td>\n",
       "      <td>1</td>\n",
       "      <td>1</td>\n",
       "      <td>27.81450</td>\n",
       "      <td>None</td>\n",
       "      <td>None</td>\n",
       "      <td>{B64E1355-BF1D-441A-95D0-BC1FBB93483B}</td>\n",
       "      <td>None</td>\n",
       "      <td>None</td>\n",
       "      <td>2020</td>\n",
       "      <td>POLYGON ((-13459243.000 4621236.000, -13458968...</td>\n",
       "    </tr>\n",
       "  </tbody>\n",
       "</table>\n",
       "</div>"
      ],
      "text/plain": [
       "   YEAR_ STATE AGENCY UNIT_ID  FIRE_NAME   INC_NUM  ALARM_DATE   CONT_DATE  \\\n",
       "0   2023    CA    CDF     SKU  WHITWORTH  00004808  2023-06-17  2023-06-17   \n",
       "1   2023    CA    LRA     BTU     KAISER  00010225  2023-06-02  2023-06-02   \n",
       "2   2023    CA    CDF     AEU    JACKSON  00017640  2023-07-01  2023-07-02   \n",
       "\n",
       "   CAUSE  C_METHOD  OBJECTIVE  GIS_ACRES COMMENTS COMPLEX_NA  \\\n",
       "0      5         1          1    5.72913     None       None   \n",
       "1      5         1          1   13.60240     None       None   \n",
       "2      2         1          1   27.81450     None       None   \n",
       "\n",
       "                                  IRWINID FIRE_NUM COMPLEX_ID  DECADES  \\\n",
       "0  {7985848C-0AC2-4BA4-8F0E-29F778652E61}     None       None     2020   \n",
       "1  {43EBCC88-B3AC-48EB-8EF5-417FE0939CCF}     None       None     2020   \n",
       "2  {B64E1355-BF1D-441A-95D0-BC1FBB93483B}     None       None     2020   \n",
       "\n",
       "                                            geometry  \n",
       "0  POLYGON ((-13682443.000 5091132.739, -13682445...  \n",
       "1  POLYGON ((-13576727.142 4841226.161, -13576726...  \n",
       "2  POLYGON ((-13459243.000 4621236.000, -13458968...  "
      ]
     },
     "execution_count": 4,
     "metadata": {},
     "output_type": "execute_result"
    }
   ],
   "source": [
    "# Look at the first few rows of the data\n",
    "ca_fires.head(3)"
   ]
  },
  {
   "cell_type": "code",
   "execution_count": 5,
   "id": "aef155d0-e585-41d1-8af4-4e872d686720",
   "metadata": {
    "tags": []
   },
   "outputs": [
    {
     "data": {
      "text/plain": [
       "array([2023, 2022, 2021, 2020, 2019, 2018, 2017, 2016, 2015, 2014, 2013,\n",
       "       2012, 2011, 2010, 2009, 2008, 2007, 2006, 2005, 2004, 2003, 2002,\n",
       "       2001, 2000, 1999, 1998, 1997, 1996, 1995, 1994, 1993, 1992, 1991,\n",
       "       1990, 1989, 1988, 1987, 1986, 1985, 1984, 1983, 1982, 1981, 1980,\n",
       "       1979, 1978, 1977, 1976, 1975, 1974, 1973, 1972, 1971, 1970, 1969,\n",
       "       1968, 1967, 1966, 1965, 1964, 1963, 1962, 1961, 1960, 1959, 1958,\n",
       "       1957, 1956, 1955, 1954, 1953, 1952, 1951, 1950, 1949, 1948, 1947,\n",
       "       1946, 1945, 1944, 1943, 1942, 1941, 1940, 1939, 1938, 1937, 1936,\n",
       "       1935, 1934, 1933, 1932, 1931, 1930, 1929, 1928, 1927, 1926, 1925,\n",
       "       1924, 1923, 1922, 1921, 1920, 1919, 1918, 1917, 1916, 1915, 1914,\n",
       "       1913, 1912, 1911, 1910, 1909, 1908, 1907, 1906, 1905, 1903, 1902,\n",
       "       1900, 1898, 1896, 1895, 1878,    0])"
      ]
     },
     "execution_count": 5,
     "metadata": {},
     "output_type": "execute_result"
    }
   ],
   "source": [
    "# Find the time range for the data\n",
    "ca_fires['YEAR_'].unique()"
   ]
  },
  {
   "cell_type": "code",
   "execution_count": 6,
   "id": "cd2951d7-a646-4031-8a88-20a20d371d7e",
   "metadata": {
    "tags": []
   },
   "outputs": [
    {
     "data": {
      "text/plain": [
       "<Projected CRS: PROJCS[\"WGS_1984_Web_Mercator_Auxiliary_Sphere\",GE ...>\n",
       "Name: WGS_1984_Web_Mercator_Auxiliary_Sphere\n",
       "Axis Info [cartesian]:\n",
       "- [east]: Easting (Meter)\n",
       "- [north]: Northing (Meter)\n",
       "Area of Use:\n",
       "- undefined\n",
       "Coordinate Operation:\n",
       "- name: unnamed\n",
       "- method: Popular Visualisation Pseudo Mercator\n",
       "Datum: World Geodetic System 1984\n",
       "- Ellipsoid: WGS 84\n",
       "- Prime Meridian: Greenwich"
      ]
     },
     "execution_count": 6,
     "metadata": {},
     "output_type": "execute_result"
    }
   ],
   "source": [
    "# Check the coordinate reference system\n",
    "ca_fires.crs"
   ]
  },
  {
   "cell_type": "code",
   "execution_count": 7,
   "id": "0ab5ddaf-f135-45de-8e3c-f47f7c06de31",
   "metadata": {
    "tags": []
   },
   "outputs": [
    {
     "name": "stdout",
     "output_type": "stream",
     "text": [
      "is geographic?  False\n",
      "is projected?  True\n"
     ]
    }
   ],
   "source": [
    "# Is it geographic or projected?\n",
    "print('is geographic? ', ca_fires.crs.is_geographic)\n",
    "print('is projected? ', ca_fires.crs.is_projected)"
   ]
  },
  {
   "cell_type": "markdown",
   "id": "4cba644b-0ac2-42c6-9b34-83e6f1c30b6c",
   "metadata": {},
   "source": [
    "**Preliminary summary:** The California fire perimeter data contains data from the around the late 1800s to 2023. It is in the projeted CRS WGS 84 / Pseudo-Mercator (EPSG:3857). The columns `YEAR_` and `FIRE_NAME` will be useful for subsetting to the 2017 Thomas Fire. \n",
    "\n",
    "## Prepare Thomas Fire boundary"
   ]
  },
  {
   "cell_type": "code",
   "execution_count": 8,
   "id": "9b1b1dfb-5e9d-4556-80bc-1df823f3b145",
   "metadata": {
    "tags": []
   },
   "outputs": [
    {
     "data": {
      "text/plain": [
       "Index(['year_', 'state', 'agency', 'unit_id', 'fire_name', 'inc_num',\n",
       "       'alarm_date', 'cont_date', 'cause', 'c_method', 'objective',\n",
       "       'gis_acres', 'comments', 'complex_na', 'irwinid', 'fire_num',\n",
       "       'complex_id', 'decades', 'geometry'],\n",
       "      dtype='object')"
      ]
     },
     "execution_count": 8,
     "metadata": {},
     "output_type": "execute_result"
    }
   ],
   "source": [
    "# Update column names to lower case\n",
    "ca_fires.columns = ca_fires.columns.str.lower()\n",
    "ca_fires.columns"
   ]
  },
  {
   "cell_type": "code",
   "execution_count": 9,
   "id": "272b9dd9-2419-4885-94e2-7867400d9e1e",
   "metadata": {},
   "outputs": [
    {
     "data": {
      "text/html": [
       "<div>\n",
       "<style scoped>\n",
       "    .dataframe tbody tr th:only-of-type {\n",
       "        vertical-align: middle;\n",
       "    }\n",
       "\n",
       "    .dataframe tbody tr th {\n",
       "        vertical-align: top;\n",
       "    }\n",
       "\n",
       "    .dataframe thead th {\n",
       "        text-align: right;\n",
       "    }\n",
       "</style>\n",
       "<table border=\"1\" class=\"dataframe\">\n",
       "  <thead>\n",
       "    <tr style=\"text-align: right;\">\n",
       "      <th></th>\n",
       "      <th>year_</th>\n",
       "      <th>state</th>\n",
       "      <th>agency</th>\n",
       "      <th>unit_id</th>\n",
       "      <th>fire_name</th>\n",
       "      <th>inc_num</th>\n",
       "      <th>alarm_date</th>\n",
       "      <th>cont_date</th>\n",
       "      <th>cause</th>\n",
       "      <th>c_method</th>\n",
       "      <th>objective</th>\n",
       "      <th>gis_acres</th>\n",
       "      <th>comments</th>\n",
       "      <th>complex_na</th>\n",
       "      <th>irwinid</th>\n",
       "      <th>fire_num</th>\n",
       "      <th>complex_id</th>\n",
       "      <th>decades</th>\n",
       "      <th>geometry</th>\n",
       "    </tr>\n",
       "  </thead>\n",
       "  <tbody>\n",
       "    <tr>\n",
       "      <th>2654</th>\n",
       "      <td>2017</td>\n",
       "      <td>CA</td>\n",
       "      <td>USF</td>\n",
       "      <td>VNC</td>\n",
       "      <td>THOMAS</td>\n",
       "      <td>00003583</td>\n",
       "      <td>2017-12-04</td>\n",
       "      <td>2018-01-12</td>\n",
       "      <td>9</td>\n",
       "      <td>7</td>\n",
       "      <td>1</td>\n",
       "      <td>281791.0</td>\n",
       "      <td>CONT_DATE based on Inciweb</td>\n",
       "      <td>None</td>\n",
       "      <td>None</td>\n",
       "      <td>None</td>\n",
       "      <td>None</td>\n",
       "      <td>2010</td>\n",
       "      <td>MULTIPOLYGON (((-13316089.016 4088553.040, -13...</td>\n",
       "    </tr>\n",
       "  </tbody>\n",
       "</table>\n",
       "</div>"
      ],
      "text/plain": [
       "      year_ state agency unit_id fire_name   inc_num  alarm_date   cont_date  \\\n",
       "2654   2017    CA    USF     VNC    THOMAS  00003583  2017-12-04  2018-01-12   \n",
       "\n",
       "      cause  c_method  objective  gis_acres                    comments  \\\n",
       "2654      9         7          1   281791.0  CONT_DATE based on Inciweb   \n",
       "\n",
       "     complex_na irwinid fire_num complex_id  decades  \\\n",
       "2654       None    None     None       None     2010   \n",
       "\n",
       "                                               geometry  \n",
       "2654  MULTIPOLYGON (((-13316089.016 4088553.040, -13...  "
      ]
     },
     "execution_count": 9,
     "metadata": {},
     "output_type": "execute_result"
    }
   ],
   "source": [
    "# Select the 2017 Thomas Fire boundary\n",
    "thomas_fire = ca_fires[(ca_fires.fire_name == \"THOMAS\") & (ca_fires.year_ == 2017)]\n",
    "thomas_fire"
   ]
  },
  {
   "cell_type": "code",
   "execution_count": 10,
   "id": "cd941822-0510-4342-a95a-cbdd1409aa13",
   "metadata": {
    "tags": []
   },
   "outputs": [],
   "source": [
    "# Save Thomas Fire boundary as a geospatial file\n",
    "thomas_fire.to_file(\"data/thomas_fire_boundary.geojson\", crs = 'epsg:3857')  # CRS from ca_fires data"
   ]
  },
  {
   "cell_type": "markdown",
   "id": "025f045a-9afd-43ed-8868-bcecc52d1a7a",
   "metadata": {},
   "source": [
    "I saved the Thomas Fire boundary as a GeoJSON, because they tend to be smaller in size than shapefiles. I will now use this file to visualize the Thomas Fire burn scar, in the next notebook in this repository: hwk4-task2-false-color-kochuten.ipynb."
   ]
  }
 ],
 "metadata": {
  "kernelspec": {
   "display_name": "Anaconda 3 (EDS220)",
   "language": "python",
   "name": "eds220-env"
  },
  "language_info": {
   "codemirror_mode": {
    "name": "ipython",
    "version": 3
   },
   "file_extension": ".py",
   "mimetype": "text/x-python",
   "name": "python",
   "nbconvert_exporter": "python",
   "pygments_lexer": "ipython3",
   "version": "3.11.4"
  }
 },
 "nbformat": 4,
 "nbformat_minor": 5
}
